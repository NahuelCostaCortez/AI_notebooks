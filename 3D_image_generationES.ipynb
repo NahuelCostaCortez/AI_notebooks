{
  "cells": [
    {
      "cell_type": "markdown",
      "metadata": {},
      "source": [
        "<a href=\"https://colab.research.google.com/github/NahuelCostaCortez/AI_notebooks/blob/main/3D_image_generationES.ipynb\" target=\"_parent\"><img src=\"https://colab.research.google.com/assets/colab-badge.svg\" alt=\"Open In Colab\"/></a>"
      ]
    },
    {
      "cell_type": "markdown",
      "metadata": {
        "id": "etTAqnz-COeP"
      },
      "source": [
        "# 💻 Generación de Imágenes 3D.\n",
        "<small><i>**Autores**: Shih, Meng-Li and Su, Shih-Yang and Kopf, Johannes and Huang, Jia-Bin, ([Web del proyecto](https://shihmengli.github.io/3D-Photo-Inpainting/))</i><br>\n",
        "<i>**Adaptación del cuaderno**: Carlos Santana Vega (**Más sobre IA!** - [DotCSV](https://www.youtube.com/c/dotcsv))</i></small>"
      ]
    },
    {
      "cell_type": "markdown",
      "metadata": {
        "id": "V81P9znyY33d"
      },
      "source": [
        "<img width=300px src='https://i.imgur.com/fLM3rkW.gif'>\n",
        "<img width=300px src='https://i.imgur.com/n95djqo.gif'>"
      ]
    },
    {
      "cell_type": "markdown",
      "metadata": {
        "id": "CX4vwAiLy6MY"
      },
      "source": [
        "\n",
        "\n",
        "---\n",
        "\n",
        "\n",
        "\n",
        "📹 **Video tutorial:** Puedes ver el siguiente [vídeo](https://www.instagram.com/tv/CK4Tgm9oWb4/) para entender mejor el funcionamiento del proyecto, con todos los pasos explicados.\n",
        "\n",
        "\n",
        "---\n",
        "\n"
      ]
    },
    {
      "cell_type": "markdown",
      "metadata": {
        "id": "6ZrNefkGZnkh"
      },
      "source": [
        "### 💡 **Introducción**\n",
        "\n",
        "¿Alguna vez has soñado con poder convertir en muy pocos clicks de ratón tus fotos planas, bidimensionales, en hermosas reconstrucciones 3D? Seguramente no, es un sueño raro... **¡Pero igualmente, esto es posible!**  *Rápido, sencillo y a coste cero.* 💸\n",
        "\n",
        "**Completa los pasos que encontrarás en este Notebook** *(así se llama a este soporte de documento que estás leyendo ahora mismo, donde texto y código en Python se intercalan)* y podrás obtener resultados similares. Pero antes, dejame que responda a algunas preguntas que te pueden estar rondando por la cabeza...\n",
        "\n",
        "**🔰 ¡Importante!** Para que la ejecución no se demore más de lo que debería, comprueba en la pestañá *'Entorno de ejecución' > 'Cambiar tipo de entorno de ejecución'* que en el menú desplegable *'Acelerador por hardware'* está **GPU** seleccionado.\n",
        "\n",
        "<br>\n",
        "\n",
        "\n",
        "❓ - **¿De qué va esto? ¿Cómo funciona?**\n",
        "\n",
        "El código que te va a permitir convertir tus imágenes en vídeos con profundidad 3D, es el trabajo resultante de un proyecto de investigación desarrollado [por estos autores](https://shihmengli.github.io/3D-Photo-Inpainting/). Se trata de un proyecto de **Machine Learning** que usando avanzados algoritmos de visión por ordenador consigue automáticamente calcular la profundidad 3D de tu escena, y sintetizar los posibles huecos que al mover la cámara surjan. **Todo automáticamente y sin intervención humana.** Es lo que tiene la Inteligencia Artificial, que mola mucho.\n",
        "\n",
        "Si quieres saber más sobre IA, un buen punto de comienzo es [mi canal de Youtube](https://www.youtube.com/c/dotcsv).\n",
        "\n",
        "<br>\n",
        "\n",
        "❓ - **Y... ¿Es gratis?**\n",
        "\n",
        "Sí. Por un lado los autores han puesto a disposición de cualquiera su código con el fin de que pueda ser utilizado y que esta línea de investigación pueda seguir avanzando. Por otra parte, normalmente la ejecución de estos algoritmos requeriría contar con un equipo informático potente *(una buena GPU, memoria, etc)*, pero esto no es problema, porque en este caso estamos utilizando Google Colab (esta web), que nos permite ejecutar este código gratuitamente en la infraestructura que Google nos facilita. Así que... todo gratis!\n",
        "\n",
        "<br>\n",
        "\n",
        "❓ - **¿Tengo que saber algo de programación?**\n",
        "\n",
        "Nada. En los siguientes pasos irás ejecutando celdas con código que estarán escupiendo mucho texto que ni entenderás, ni hace falta que entiendas. Simplemente sigue mis pasos, y tendrás rápidamente tu resultado.\n"
      ]
    },
    {
      "cell_type": "markdown",
      "metadata": {
        "id": "_3u4wsVVkQHF"
      },
      "source": [
        "### 1️⃣ **Primer Paso:** ¡Puesta a punto!"
      ]
    },
    {
      "cell_type": "markdown",
      "metadata": {
        "id": "iS0IvHnEirk1"
      },
      "source": [
        "**¡Comencemos!** Lo único que te tienes que encargar es de ir ejecutando las siguientes celdas en orden y seguir las intrucciones. Para ejecutar una celda, situate encima de ella y clicka en el botón de ▶ que aparece en la esquina superior izquierda. Durante la ejecución verás que ese icono mostrará un círculo dando vueltas, y cuando haya finalizado mostrará un número que indicará que la ejecución ya ha terminado.\n",
        "\n",
        "**1.- Empieza ejecutando la siguiente celda.** - *(Tiempo estimado: 3-4 min)* Esto lo que hará será automáticamente instalar todas las librerías necesarias para hacer funcionar al sistema, y también descargará de GitHub el proyecto."
      ]
    },
    {
      "cell_type": "code",
      "execution_count": null,
      "metadata": {
        "colab": {
          "base_uri": "https://localhost:8080/"
        },
        "id": "5o-EIMeaghU0",
        "outputId": "fad427cc-e2cb-47b1-b3a8-cfaaef8684df",
        "vscode": {
          "languageId": "python"
        }
      },
      "outputs": [
        {
          "name": "stdout",
          "output_type": "stream",
          "text": [
            "Looking in links: https://download.pytorch.org/whl/torch_stable.html\n",
            "Collecting torch==1.4.0+cu100\n",
            "\u001b[?25l  Downloading https://download.pytorch.org/whl/cu100/torch-1.4.0%2Bcu100-cp36-cp36m-linux_x86_64.whl (723.9MB)\n",
            "\u001b[K     |████████████████████████████████| 723.9MB 25kB/s \n",
            "\u001b[?25hCollecting torchvision==0.5.0+cu100\n",
            "\u001b[?25l  Downloading https://download.pytorch.org/whl/cu100/torchvision-0.5.0%2Bcu100-cp36-cp36m-linux_x86_64.whl (4.0MB)\n",
            "\u001b[K     |████████████████████████████████| 4.1MB 27.2MB/s \n",
            "\u001b[?25hRequirement already satisfied: six in /usr/local/lib/python3.6/dist-packages (from torchvision==0.5.0+cu100) (1.15.0)\n",
            "Requirement already satisfied: pillow>=4.1.1 in /usr/local/lib/python3.6/dist-packages (from torchvision==0.5.0+cu100) (7.0.0)\n",
            "Requirement already satisfied: numpy in /usr/local/lib/python3.6/dist-packages (from torchvision==0.5.0+cu100) (1.19.5)\n",
            "Installing collected packages: torch, torchvision\n",
            "  Found existing installation: torch 1.7.0+cu101\n",
            "    Uninstalling torch-1.7.0+cu101:\n",
            "      Successfully uninstalled torch-1.7.0+cu101\n",
            "  Found existing installation: torchvision 0.8.1+cu101\n"
          ]
        }
      ],
      "source": [
        "### TIEMPO APROXIMADO: 3-4 minutos ###\n",
        "\n",
        "# Preparación del entorno.\n",
        "\n",
        "!pip3 install torch==1.4.0+cu100 torchvision==0.5.0+cu100 -f https://download.pytorch.org/whl/torch_stable.html\n",
        "!pip3 install opencv-python==4.2.0.32\n",
        "!pip3 install vispy==0.6.4\n",
        "!pip3 install moviepy==1.0.2\n",
        "!pip3 install transforms3d==0.3.1\n",
        "!pip3 install networkx==2.3\n",
        "!sudo apt install sed\n",
        "\n",
        "# Descarga y configuración del modelo preentrenado.\n",
        "\n",
        "%cd /content/\n",
        "!git clone https://github.com/vt-vl-lab/3d-photo-inpainting.git\n",
        "%cd 3d-photo-inpainting\n",
        "!sh download.sh\n",
        "!sed -i 's/offscreen_rendering: True/offscreen_rendering: False/g' argument.yml"
      ]
    },
    {
      "cell_type": "markdown",
      "metadata": {
        "id": "Khd2ULLoldle"
      },
      "source": [
        "### 2️⃣ **Segundo Paso:** Sube tus imágenes."
      ]
    },
    {
      "cell_type": "markdown",
      "metadata": {
        "id": "-sEUkoXelmTU"
      },
      "source": [
        "**2.a - (opcional) Borra las imágenes subidas anteriormente.** - Si ya has subido imágenes con anterioridad, o si quieres borrar la imagen que por defecto viene en el proyecto *(The First Moonwalk)* , puedes ejecutar la siguiente celda para borrar todas las imágenes y que estas no se procesen."
      ]
    },
    {
      "cell_type": "code",
      "execution_count": null,
      "metadata": {
        "id": "Shx9iCTDobGn",
        "vscode": {
          "languageId": "python"
        }
      },
      "outputs": [],
      "source": [
        "# Borrar imágenes subidas.\n",
        "!rm /content/3d-photo-inpainting/image/*"
      ]
    },
    {
      "cell_type": "markdown",
      "metadata": {
        "id": "WEs8e1Kzmfg_"
      },
      "source": [
        "**2.b - Sube la imagen o imágenes que quieras convertir a 3D.** - Ejecuta la siguiente celda, y verás que te aparecerá una opción para subir un imagen. Una vez aparezca el botón de 'Elegir archivos', púlsalo para elegir una imagen de tu ordenador. Una vez seleccionada la celda deberá de finalizar su ejecución y se te indicará en texto que tu imagen ha sido guardada.\n",
        "\n",
        "\n",
        "🔰 **Importante:** Comprueba que la extensión de las imágenes que subas estén en formato **.jpg** (No válido *.jpeg*, *.JPG*, ...)\n",
        "\n",
        "\n",
        "```\n",
        "Saving tu_imagen.jpg to tu_imagen.jpg\n",
        "```\n",
        "\n",
        "**Puedes repetir este paso para subir tantas imágenes como quieras procesar.** Eso sí, evita subir imágenes de gran tamaño y/o resolución, ya que el sistema podría fallar. 🧨\n"
      ]
    },
    {
      "cell_type": "code",
      "execution_count": null,
      "metadata": {
        "id": "n-Kl6fo1oows",
        "vscode": {
          "languageId": "python"
        }
      },
      "outputs": [],
      "source": [
        "# Subida de la imagen o imágenes.\n",
        "\n",
        "!rm /content/3d-photo-inpainting/image/moon.jpg\n",
        "\n",
        "%cd image\n",
        "from google.colab import files\n",
        "uploaded = files.upload()\n",
        "for fn in uploaded.keys():\n",
        "  print('User uploaded file \"{name}\" with length {length} bytes'.format(\n",
        "      name=fn, length=len(uploaded[fn])))\n",
        "%cd .."
      ]
    },
    {
      "cell_type": "markdown",
      "metadata": {
        "id": "eRycgHIMyOC6"
      },
      "source": [
        "### 3️⃣ **Tercer Paso:** ¡A procesar!"
      ]
    },
    {
      "cell_type": "markdown",
      "metadata": {
        "id": "hw2Q0iiDFOqg"
      },
      "source": [
        "**3 - Procesamos las imágenes!** - En este punto, ejecutando la siguiente celda, el sistema empezará a procesar todas las imágenes que haya subido. Este proceso es el más lento y puede demorarse unos 5 minutos por imágenes. *Buen momento para irte a tomar un café* ☕\n"
      ]
    },
    {
      "cell_type": "code",
      "execution_count": null,
      "metadata": {
        "id": "i5-MWEjfBjYx",
        "vscode": {
          "languageId": "python"
        }
      },
      "outputs": [],
      "source": [
        "!rm /content/3d-photo-inpainting/video/*\n",
        "!rm /content/3d-photo-inpainting/depth/*\n",
        "!rm /content/3d-photo-inpainting/mesh/*\n",
        "!python main.py --config argument.yml"
      ]
    },
    {
      "cell_type": "markdown",
      "metadata": {
        "id": "emMXT3H2My6R"
      },
      "source": [
        "### 4️⃣ **Cuarto Paso:** Descarga tus vídeos.\n",
        "\n",
        "Una vez se hayan procesado las imágenes, ejecutando la siguiente celda obtendrás una previsualización de los vídeos generados y podrás ir descargándolos uno a uno clickando en el botón de descarga. \n",
        "\n",
        "Por cada imagen obtendrás 4 vídeos con diferentes técnicas de cámara (***Circle***, ***Dolly Zoom***, ***Swing*** y ***Zoom-in***)."
      ]
    },
    {
      "cell_type": "code",
      "execution_count": null,
      "metadata": {
        "colab": {
          "background_save": true
        },
        "id": "0s66mqlETfdV",
        "vscode": {
          "languageId": "python"
        }
      },
      "outputs": [],
      "source": [
        "from IPython.display import HTML\n",
        "from google.colab    import output\n",
        "from base64          import b64encode\n",
        "import uuid\n",
        "import copy\n",
        "\n",
        "video_path =  '/content/3d-photo-inpainting/video/'\n",
        "urls = !ls -1 '/content/3d-photo-inpainting/video/'\n",
        "\n",
        "class InvokeButton(object):\n",
        "  def __init__(self, title, callback):\n",
        "    self._title = title\n",
        "    self._callback = callback\n",
        "\n",
        "  def _repr_html_(self):\n",
        "    callback_id = 'button-' + str(uuid.uuid4())\n",
        "    output.register_callback(callback_id, self._callback)\n",
        "\n",
        "    template = \"\"\"<button id=\"{callback_id}\">{title}</button>\n",
        "        <script>\n",
        "          document.querySelector(\"#{callback_id}\").onclick = (e) => {{\n",
        "            google.colab.kernel.invokeFunction('{callback_id}', [], {{}})\n",
        "            e.preventDefault();\n",
        "          }};\n",
        "        </script>\"\"\"\n",
        "    html = template.format(title=self._title, callback_id=callback_id)\n",
        "    return str(html)\n",
        "\n",
        "for idx, url in enumerate(urls):\n",
        "\n",
        "  mp4 = open(video_path + url,'rb').read()\n",
        "  data_url = \"data:video/mp4;base64,\" + b64encode(mp4).decode()\n",
        "  display(InvokeButton(str((idx+1)) + \"/\" + str(len(urls)) + \" ⬇ Descargar '\" + url + \"'\",\n",
        "                       lambda u=url: files.download(video_path + u)))\n",
        "  display(HTML(\"\"\"\n",
        "  <video width=500 controls>\n",
        "        <source src=\"%s\" type=\"video/mp4\">\n",
        "  </video>\n",
        "  \"\"\" % (data_url)))"
      ]
    }
  ],
  "metadata": {
    "accelerator": "GPU",
    "colab": {
      "provenance": []
    },
    "kernelspec": {
      "display_name": "Python 3",
      "name": "python3"
    }
  },
  "nbformat": 4,
  "nbformat_minor": 0
}
